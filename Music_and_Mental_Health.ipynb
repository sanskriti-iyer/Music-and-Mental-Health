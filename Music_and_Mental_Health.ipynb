{
  "nbformat": 4,
  "nbformat_minor": 0,
  "metadata": {
    "colab": {
      "provenance": [],
      "authorship_tag": "ABX9TyOyp0dMKM5wVNPQQjuVY218",
      "include_colab_link": true
    },
    "kernelspec": {
      "name": "python3",
      "display_name": "Python 3"
    },
    "language_info": {
      "name": "python"
    }
  },
  "cells": [
    {
      "cell_type": "markdown",
      "metadata": {
        "id": "view-in-github",
        "colab_type": "text"
      },
      "source": [
        "<a href=\"https://colab.research.google.com/github/sanskriti-iyer/Music-and-Mental-Health/blob/main/Music_and_Mental_Health.ipynb\" target=\"_parent\"><img src=\"https://colab.research.google.com/assets/colab-badge.svg\" alt=\"Open In Colab\"/></a>"
      ]
    },
    {
      "cell_type": "code",
      "execution_count": 20,
      "metadata": {
        "id": "cYPcKW1fiSbE",
        "colab": {
          "base_uri": "https://localhost:8080/"
        },
        "outputId": "e6f7e3ae-215e-4f30-a92e-2cf1573abd05"
      },
      "outputs": [
        {
          "output_type": "stream",
          "name": "stdout",
          "text": [
            "Drive already mounted at /content/drive; to attempt to forcibly remount, call drive.mount(\"/content/drive\", force_remount=True).\n"
          ]
        }
      ],
      "source": [
        "from google.colab import drive\n",
        "drive.mount('/content/drive')"
      ]
    },
    {
      "cell_type": "markdown",
      "source": [
        "Importing relevant libraries"
      ],
      "metadata": {
        "id": "l1lj_lnpxIt9"
      }
    },
    {
      "cell_type": "code",
      "source": [
        "!pip install scikit-posthocs"
      ],
      "metadata": {
        "colab": {
          "base_uri": "https://localhost:8080/"
        },
        "id": "8a8jnrqhnfwY",
        "outputId": "d30b3f1b-191a-4e2b-a0f2-3f82731bc333"
      },
      "execution_count": 37,
      "outputs": [
        {
          "output_type": "stream",
          "name": "stdout",
          "text": [
            "Collecting scikit-posthocs\n",
            "  Downloading scikit_posthocs-0.11.4-py3-none-any.whl.metadata (5.8 kB)\n",
            "Requirement already satisfied: numpy in /usr/local/lib/python3.11/dist-packages (from scikit-posthocs) (2.0.2)\n",
            "Requirement already satisfied: scipy>=1.9.0 in /usr/local/lib/python3.11/dist-packages (from scikit-posthocs) (1.16.0)\n",
            "Requirement already satisfied: statsmodels in /usr/local/lib/python3.11/dist-packages (from scikit-posthocs) (0.14.5)\n",
            "Requirement already satisfied: pandas>=0.20.0 in /usr/local/lib/python3.11/dist-packages (from scikit-posthocs) (2.2.2)\n",
            "Requirement already satisfied: seaborn in /usr/local/lib/python3.11/dist-packages (from scikit-posthocs) (0.13.2)\n",
            "Requirement already satisfied: matplotlib in /usr/local/lib/python3.11/dist-packages (from scikit-posthocs) (3.10.0)\n",
            "Requirement already satisfied: python-dateutil>=2.8.2 in /usr/local/lib/python3.11/dist-packages (from pandas>=0.20.0->scikit-posthocs) (2.9.0.post0)\n",
            "Requirement already satisfied: pytz>=2020.1 in /usr/local/lib/python3.11/dist-packages (from pandas>=0.20.0->scikit-posthocs) (2025.2)\n",
            "Requirement already satisfied: tzdata>=2022.7 in /usr/local/lib/python3.11/dist-packages (from pandas>=0.20.0->scikit-posthocs) (2025.2)\n",
            "Requirement already satisfied: contourpy>=1.0.1 in /usr/local/lib/python3.11/dist-packages (from matplotlib->scikit-posthocs) (1.3.2)\n",
            "Requirement already satisfied: cycler>=0.10 in /usr/local/lib/python3.11/dist-packages (from matplotlib->scikit-posthocs) (0.12.1)\n",
            "Requirement already satisfied: fonttools>=4.22.0 in /usr/local/lib/python3.11/dist-packages (from matplotlib->scikit-posthocs) (4.59.0)\n",
            "Requirement already satisfied: kiwisolver>=1.3.1 in /usr/local/lib/python3.11/dist-packages (from matplotlib->scikit-posthocs) (1.4.8)\n",
            "Requirement already satisfied: packaging>=20.0 in /usr/local/lib/python3.11/dist-packages (from matplotlib->scikit-posthocs) (25.0)\n",
            "Requirement already satisfied: pillow>=8 in /usr/local/lib/python3.11/dist-packages (from matplotlib->scikit-posthocs) (11.3.0)\n",
            "Requirement already satisfied: pyparsing>=2.3.1 in /usr/local/lib/python3.11/dist-packages (from matplotlib->scikit-posthocs) (3.2.3)\n",
            "Requirement already satisfied: patsy>=0.5.6 in /usr/local/lib/python3.11/dist-packages (from statsmodels->scikit-posthocs) (1.0.1)\n",
            "Requirement already satisfied: six>=1.5 in /usr/local/lib/python3.11/dist-packages (from python-dateutil>=2.8.2->pandas>=0.20.0->scikit-posthocs) (1.17.0)\n",
            "Downloading scikit_posthocs-0.11.4-py3-none-any.whl (33 kB)\n",
            "Installing collected packages: scikit-posthocs\n",
            "Successfully installed scikit-posthocs-0.11.4\n"
          ]
        }
      ]
    },
    {
      "cell_type": "code",
      "source": [
        "import pandas as pd\n",
        "import numpy as np\n",
        "from scipy.stats import normaltest\n",
        "import matplotlib.pyplot as plt\n",
        "import seaborn as sns\n",
        "import scipy.stats as stats\n",
        "from sklearn.preprocessing import StandardScaler\n",
        "from sklearn.cluster import KMeans\n",
        "from scipy.stats import mannwhitneyu, kruskal\n",
        "import scikit_posthocs as sp"
      ],
      "metadata": {
        "id": "aWxHqZMLxH6v"
      },
      "execution_count": 38,
      "outputs": []
    },
    {
      "cell_type": "markdown",
      "source": [
        "Importing dataset"
      ],
      "metadata": {
        "id": "_RreAcK6w-EC"
      }
    },
    {
      "cell_type": "code",
      "source": [
        "path = '/content/drive/MyDrive/mxmh_survey_results.csv'\n",
        "data = pd.read_csv(path)"
      ],
      "metadata": {
        "id": "XvjvmtWzw9ht"
      },
      "execution_count": 23,
      "outputs": []
    },
    {
      "cell_type": "code",
      "source": [
        "data.head()"
      ],
      "metadata": {
        "id": "KUcMtus5yneY",
        "outputId": "67e7dc42-2499-4db5-f623-3a8917fd7363",
        "colab": {
          "base_uri": "https://localhost:8080/",
          "height": 411
        }
      },
      "execution_count": 24,
      "outputs": [
        {
          "output_type": "execute_result",
          "data": {
            "text/plain": [
              "   UniqueID   Age Primary streaming service  Hours per day  While working  \\\n",
              "0         1  18.0                   Spotify            3.0            1.0   \n",
              "1         2  63.0                   Pandora            1.5            1.0   \n",
              "2         3  18.0                   Spotify            4.0            0.0   \n",
              "3         4  61.0             YouTube Music            2.5            1.0   \n",
              "4         5  18.0                   Spotify            4.0            1.0   \n",
              "\n",
              "   Instrumentalist  Composer         Fav genre  Exploratory  \\\n",
              "0              1.0       1.0             Latin            1   \n",
              "1              0.0       0.0              Rock            1   \n",
              "2              0.0       0.0  Video game music            0   \n",
              "3              0.0       1.0              Jazz            1   \n",
              "4              0.0       0.0               R&B            1   \n",
              "\n",
              "   Foreign languages  ...  Frequency [R&B]  Frequency [Rap] Frequency [Rock]  \\\n",
              "0                1.0  ...        Sometimes  Very frequently            Never   \n",
              "1                0.0  ...        Sometimes           Rarely  Very frequently   \n",
              "2                1.0  ...            Never           Rarely           Rarely   \n",
              "3                1.0  ...        Sometimes            Never            Never   \n",
              "4                0.0  ...  Very frequently  Very frequently            Never   \n",
              "\n",
              "  Frequency [Video game music] Anxiety Depression Insomnia  OCD Music effects  \\\n",
              "0                    Sometimes     3.0        0.0      1.0  0.0           NaN   \n",
              "1                       Rarely     7.0        2.0      2.0  1.0           NaN   \n",
              "2              Very frequently     7.0        7.0     10.0  2.0      0 effect   \n",
              "3                        Never     9.0        7.0      3.0  3.0       Improve   \n",
              "4                       Rarely     7.0        2.0      5.0  9.0       Improve   \n",
              "\n",
              "     Permissions  \n",
              "0  I understand.  \n",
              "1  I understand.  \n",
              "2  I understand.  \n",
              "3  I understand.  \n",
              "4  I understand.  \n",
              "\n",
              "[5 rows x 33 columns]"
            ],
            "text/html": [
              "\n",
              "  <div id=\"df-2ac4e5d6-701c-4dac-81f1-c2329c4775b4\" class=\"colab-df-container\">\n",
              "    <div>\n",
              "<style scoped>\n",
              "    .dataframe tbody tr th:only-of-type {\n",
              "        vertical-align: middle;\n",
              "    }\n",
              "\n",
              "    .dataframe tbody tr th {\n",
              "        vertical-align: top;\n",
              "    }\n",
              "\n",
              "    .dataframe thead th {\n",
              "        text-align: right;\n",
              "    }\n",
              "</style>\n",
              "<table border=\"1\" class=\"dataframe\">\n",
              "  <thead>\n",
              "    <tr style=\"text-align: right;\">\n",
              "      <th></th>\n",
              "      <th>UniqueID</th>\n",
              "      <th>Age</th>\n",
              "      <th>Primary streaming service</th>\n",
              "      <th>Hours per day</th>\n",
              "      <th>While working</th>\n",
              "      <th>Instrumentalist</th>\n",
              "      <th>Composer</th>\n",
              "      <th>Fav genre</th>\n",
              "      <th>Exploratory</th>\n",
              "      <th>Foreign languages</th>\n",
              "      <th>...</th>\n",
              "      <th>Frequency [R&amp;B]</th>\n",
              "      <th>Frequency [Rap]</th>\n",
              "      <th>Frequency [Rock]</th>\n",
              "      <th>Frequency [Video game music]</th>\n",
              "      <th>Anxiety</th>\n",
              "      <th>Depression</th>\n",
              "      <th>Insomnia</th>\n",
              "      <th>OCD</th>\n",
              "      <th>Music effects</th>\n",
              "      <th>Permissions</th>\n",
              "    </tr>\n",
              "  </thead>\n",
              "  <tbody>\n",
              "    <tr>\n",
              "      <th>0</th>\n",
              "      <td>1</td>\n",
              "      <td>18.0</td>\n",
              "      <td>Spotify</td>\n",
              "      <td>3.0</td>\n",
              "      <td>1.0</td>\n",
              "      <td>1.0</td>\n",
              "      <td>1.0</td>\n",
              "      <td>Latin</td>\n",
              "      <td>1</td>\n",
              "      <td>1.0</td>\n",
              "      <td>...</td>\n",
              "      <td>Sometimes</td>\n",
              "      <td>Very frequently</td>\n",
              "      <td>Never</td>\n",
              "      <td>Sometimes</td>\n",
              "      <td>3.0</td>\n",
              "      <td>0.0</td>\n",
              "      <td>1.0</td>\n",
              "      <td>0.0</td>\n",
              "      <td>NaN</td>\n",
              "      <td>I understand.</td>\n",
              "    </tr>\n",
              "    <tr>\n",
              "      <th>1</th>\n",
              "      <td>2</td>\n",
              "      <td>63.0</td>\n",
              "      <td>Pandora</td>\n",
              "      <td>1.5</td>\n",
              "      <td>1.0</td>\n",
              "      <td>0.0</td>\n",
              "      <td>0.0</td>\n",
              "      <td>Rock</td>\n",
              "      <td>1</td>\n",
              "      <td>0.0</td>\n",
              "      <td>...</td>\n",
              "      <td>Sometimes</td>\n",
              "      <td>Rarely</td>\n",
              "      <td>Very frequently</td>\n",
              "      <td>Rarely</td>\n",
              "      <td>7.0</td>\n",
              "      <td>2.0</td>\n",
              "      <td>2.0</td>\n",
              "      <td>1.0</td>\n",
              "      <td>NaN</td>\n",
              "      <td>I understand.</td>\n",
              "    </tr>\n",
              "    <tr>\n",
              "      <th>2</th>\n",
              "      <td>3</td>\n",
              "      <td>18.0</td>\n",
              "      <td>Spotify</td>\n",
              "      <td>4.0</td>\n",
              "      <td>0.0</td>\n",
              "      <td>0.0</td>\n",
              "      <td>0.0</td>\n",
              "      <td>Video game music</td>\n",
              "      <td>0</td>\n",
              "      <td>1.0</td>\n",
              "      <td>...</td>\n",
              "      <td>Never</td>\n",
              "      <td>Rarely</td>\n",
              "      <td>Rarely</td>\n",
              "      <td>Very frequently</td>\n",
              "      <td>7.0</td>\n",
              "      <td>7.0</td>\n",
              "      <td>10.0</td>\n",
              "      <td>2.0</td>\n",
              "      <td>0 effect</td>\n",
              "      <td>I understand.</td>\n",
              "    </tr>\n",
              "    <tr>\n",
              "      <th>3</th>\n",
              "      <td>4</td>\n",
              "      <td>61.0</td>\n",
              "      <td>YouTube Music</td>\n",
              "      <td>2.5</td>\n",
              "      <td>1.0</td>\n",
              "      <td>0.0</td>\n",
              "      <td>1.0</td>\n",
              "      <td>Jazz</td>\n",
              "      <td>1</td>\n",
              "      <td>1.0</td>\n",
              "      <td>...</td>\n",
              "      <td>Sometimes</td>\n",
              "      <td>Never</td>\n",
              "      <td>Never</td>\n",
              "      <td>Never</td>\n",
              "      <td>9.0</td>\n",
              "      <td>7.0</td>\n",
              "      <td>3.0</td>\n",
              "      <td>3.0</td>\n",
              "      <td>Improve</td>\n",
              "      <td>I understand.</td>\n",
              "    </tr>\n",
              "    <tr>\n",
              "      <th>4</th>\n",
              "      <td>5</td>\n",
              "      <td>18.0</td>\n",
              "      <td>Spotify</td>\n",
              "      <td>4.0</td>\n",
              "      <td>1.0</td>\n",
              "      <td>0.0</td>\n",
              "      <td>0.0</td>\n",
              "      <td>R&amp;B</td>\n",
              "      <td>1</td>\n",
              "      <td>0.0</td>\n",
              "      <td>...</td>\n",
              "      <td>Very frequently</td>\n",
              "      <td>Very frequently</td>\n",
              "      <td>Never</td>\n",
              "      <td>Rarely</td>\n",
              "      <td>7.0</td>\n",
              "      <td>2.0</td>\n",
              "      <td>5.0</td>\n",
              "      <td>9.0</td>\n",
              "      <td>Improve</td>\n",
              "      <td>I understand.</td>\n",
              "    </tr>\n",
              "  </tbody>\n",
              "</table>\n",
              "<p>5 rows × 33 columns</p>\n",
              "</div>\n",
              "    <div class=\"colab-df-buttons\">\n",
              "\n",
              "  <div class=\"colab-df-container\">\n",
              "    <button class=\"colab-df-convert\" onclick=\"convertToInteractive('df-2ac4e5d6-701c-4dac-81f1-c2329c4775b4')\"\n",
              "            title=\"Convert this dataframe to an interactive table.\"\n",
              "            style=\"display:none;\">\n",
              "\n",
              "  <svg xmlns=\"http://www.w3.org/2000/svg\" height=\"24px\" viewBox=\"0 -960 960 960\">\n",
              "    <path d=\"M120-120v-720h720v720H120Zm60-500h600v-160H180v160Zm220 220h160v-160H400v160Zm0 220h160v-160H400v160ZM180-400h160v-160H180v160Zm440 0h160v-160H620v160ZM180-180h160v-160H180v160Zm440 0h160v-160H620v160Z\"/>\n",
              "  </svg>\n",
              "    </button>\n",
              "\n",
              "  <style>\n",
              "    .colab-df-container {\n",
              "      display:flex;\n",
              "      gap: 12px;\n",
              "    }\n",
              "\n",
              "    .colab-df-convert {\n",
              "      background-color: #E8F0FE;\n",
              "      border: none;\n",
              "      border-radius: 50%;\n",
              "      cursor: pointer;\n",
              "      display: none;\n",
              "      fill: #1967D2;\n",
              "      height: 32px;\n",
              "      padding: 0 0 0 0;\n",
              "      width: 32px;\n",
              "    }\n",
              "\n",
              "    .colab-df-convert:hover {\n",
              "      background-color: #E2EBFA;\n",
              "      box-shadow: 0px 1px 2px rgba(60, 64, 67, 0.3), 0px 1px 3px 1px rgba(60, 64, 67, 0.15);\n",
              "      fill: #174EA6;\n",
              "    }\n",
              "\n",
              "    .colab-df-buttons div {\n",
              "      margin-bottom: 4px;\n",
              "    }\n",
              "\n",
              "    [theme=dark] .colab-df-convert {\n",
              "      background-color: #3B4455;\n",
              "      fill: #D2E3FC;\n",
              "    }\n",
              "\n",
              "    [theme=dark] .colab-df-convert:hover {\n",
              "      background-color: #434B5C;\n",
              "      box-shadow: 0px 1px 3px 1px rgba(0, 0, 0, 0.15);\n",
              "      filter: drop-shadow(0px 1px 2px rgba(0, 0, 0, 0.3));\n",
              "      fill: #FFFFFF;\n",
              "    }\n",
              "  </style>\n",
              "\n",
              "    <script>\n",
              "      const buttonEl =\n",
              "        document.querySelector('#df-2ac4e5d6-701c-4dac-81f1-c2329c4775b4 button.colab-df-convert');\n",
              "      buttonEl.style.display =\n",
              "        google.colab.kernel.accessAllowed ? 'block' : 'none';\n",
              "\n",
              "      async function convertToInteractive(key) {\n",
              "        const element = document.querySelector('#df-2ac4e5d6-701c-4dac-81f1-c2329c4775b4');\n",
              "        const dataTable =\n",
              "          await google.colab.kernel.invokeFunction('convertToInteractive',\n",
              "                                                    [key], {});\n",
              "        if (!dataTable) return;\n",
              "\n",
              "        const docLinkHtml = 'Like what you see? Visit the ' +\n",
              "          '<a target=\"_blank\" href=https://colab.research.google.com/notebooks/data_table.ipynb>data table notebook</a>'\n",
              "          + ' to learn more about interactive tables.';\n",
              "        element.innerHTML = '';\n",
              "        dataTable['output_type'] = 'display_data';\n",
              "        await google.colab.output.renderOutput(dataTable, element);\n",
              "        const docLink = document.createElement('div');\n",
              "        docLink.innerHTML = docLinkHtml;\n",
              "        element.appendChild(docLink);\n",
              "      }\n",
              "    </script>\n",
              "  </div>\n",
              "\n",
              "\n",
              "    <div id=\"df-162a9a46-5bd4-4509-88da-19698be6008d\">\n",
              "      <button class=\"colab-df-quickchart\" onclick=\"quickchart('df-162a9a46-5bd4-4509-88da-19698be6008d')\"\n",
              "                title=\"Suggest charts\"\n",
              "                style=\"display:none;\">\n",
              "\n",
              "<svg xmlns=\"http://www.w3.org/2000/svg\" height=\"24px\"viewBox=\"0 0 24 24\"\n",
              "     width=\"24px\">\n",
              "    <g>\n",
              "        <path d=\"M19 3H5c-1.1 0-2 .9-2 2v14c0 1.1.9 2 2 2h14c1.1 0 2-.9 2-2V5c0-1.1-.9-2-2-2zM9 17H7v-7h2v7zm4 0h-2V7h2v10zm4 0h-2v-4h2v4z\"/>\n",
              "    </g>\n",
              "</svg>\n",
              "      </button>\n",
              "\n",
              "<style>\n",
              "  .colab-df-quickchart {\n",
              "      --bg-color: #E8F0FE;\n",
              "      --fill-color: #1967D2;\n",
              "      --hover-bg-color: #E2EBFA;\n",
              "      --hover-fill-color: #174EA6;\n",
              "      --disabled-fill-color: #AAA;\n",
              "      --disabled-bg-color: #DDD;\n",
              "  }\n",
              "\n",
              "  [theme=dark] .colab-df-quickchart {\n",
              "      --bg-color: #3B4455;\n",
              "      --fill-color: #D2E3FC;\n",
              "      --hover-bg-color: #434B5C;\n",
              "      --hover-fill-color: #FFFFFF;\n",
              "      --disabled-bg-color: #3B4455;\n",
              "      --disabled-fill-color: #666;\n",
              "  }\n",
              "\n",
              "  .colab-df-quickchart {\n",
              "    background-color: var(--bg-color);\n",
              "    border: none;\n",
              "    border-radius: 50%;\n",
              "    cursor: pointer;\n",
              "    display: none;\n",
              "    fill: var(--fill-color);\n",
              "    height: 32px;\n",
              "    padding: 0;\n",
              "    width: 32px;\n",
              "  }\n",
              "\n",
              "  .colab-df-quickchart:hover {\n",
              "    background-color: var(--hover-bg-color);\n",
              "    box-shadow: 0 1px 2px rgba(60, 64, 67, 0.3), 0 1px 3px 1px rgba(60, 64, 67, 0.15);\n",
              "    fill: var(--button-hover-fill-color);\n",
              "  }\n",
              "\n",
              "  .colab-df-quickchart-complete:disabled,\n",
              "  .colab-df-quickchart-complete:disabled:hover {\n",
              "    background-color: var(--disabled-bg-color);\n",
              "    fill: var(--disabled-fill-color);\n",
              "    box-shadow: none;\n",
              "  }\n",
              "\n",
              "  .colab-df-spinner {\n",
              "    border: 2px solid var(--fill-color);\n",
              "    border-color: transparent;\n",
              "    border-bottom-color: var(--fill-color);\n",
              "    animation:\n",
              "      spin 1s steps(1) infinite;\n",
              "  }\n",
              "\n",
              "  @keyframes spin {\n",
              "    0% {\n",
              "      border-color: transparent;\n",
              "      border-bottom-color: var(--fill-color);\n",
              "      border-left-color: var(--fill-color);\n",
              "    }\n",
              "    20% {\n",
              "      border-color: transparent;\n",
              "      border-left-color: var(--fill-color);\n",
              "      border-top-color: var(--fill-color);\n",
              "    }\n",
              "    30% {\n",
              "      border-color: transparent;\n",
              "      border-left-color: var(--fill-color);\n",
              "      border-top-color: var(--fill-color);\n",
              "      border-right-color: var(--fill-color);\n",
              "    }\n",
              "    40% {\n",
              "      border-color: transparent;\n",
              "      border-right-color: var(--fill-color);\n",
              "      border-top-color: var(--fill-color);\n",
              "    }\n",
              "    60% {\n",
              "      border-color: transparent;\n",
              "      border-right-color: var(--fill-color);\n",
              "    }\n",
              "    80% {\n",
              "      border-color: transparent;\n",
              "      border-right-color: var(--fill-color);\n",
              "      border-bottom-color: var(--fill-color);\n",
              "    }\n",
              "    90% {\n",
              "      border-color: transparent;\n",
              "      border-bottom-color: var(--fill-color);\n",
              "    }\n",
              "  }\n",
              "</style>\n",
              "\n",
              "      <script>\n",
              "        async function quickchart(key) {\n",
              "          const quickchartButtonEl =\n",
              "            document.querySelector('#' + key + ' button');\n",
              "          quickchartButtonEl.disabled = true;  // To prevent multiple clicks.\n",
              "          quickchartButtonEl.classList.add('colab-df-spinner');\n",
              "          try {\n",
              "            const charts = await google.colab.kernel.invokeFunction(\n",
              "                'suggestCharts', [key], {});\n",
              "          } catch (error) {\n",
              "            console.error('Error during call to suggestCharts:', error);\n",
              "          }\n",
              "          quickchartButtonEl.classList.remove('colab-df-spinner');\n",
              "          quickchartButtonEl.classList.add('colab-df-quickchart-complete');\n",
              "        }\n",
              "        (() => {\n",
              "          let quickchartButtonEl =\n",
              "            document.querySelector('#df-162a9a46-5bd4-4509-88da-19698be6008d button');\n",
              "          quickchartButtonEl.style.display =\n",
              "            google.colab.kernel.accessAllowed ? 'block' : 'none';\n",
              "        })();\n",
              "      </script>\n",
              "    </div>\n",
              "\n",
              "    </div>\n",
              "  </div>\n"
            ],
            "application/vnd.google.colaboratory.intrinsic+json": {
              "type": "dataframe",
              "variable_name": "data"
            }
          },
          "metadata": {},
          "execution_count": 24
        }
      ]
    },
    {
      "cell_type": "markdown",
      "source": [
        "# **Correlation Analysis**"
      ],
      "metadata": {
        "id": "LzMpWLr_FoL6"
      }
    },
    {
      "cell_type": "markdown",
      "source": [
        "D’Agostino and Pearson to check for normality for all four mental disorders"
      ],
      "metadata": {
        "id": "xdSqT-xCF1_k"
      }
    },
    {
      "cell_type": "code",
      "source": [
        "#Anxiety\n",
        "stat, p = normaltest(data['Anxiety'].dropna())\n",
        "print(f\"Statistic: {stat}, p-value: {p}\")\n",
        "if p > 0.05:\n",
        "    print(\"Data likely normal\")\n",
        "else:\n",
        "    print(\"Data not normal\")\n",
        "\n",
        "#histogram for anxiety\n",
        "plt.hist(data['Anxiety'].dropna(), bins=20, edgecolor='purple', color='pink')\n",
        "plt.title('Histogram of Anxiety Scores')\n",
        "plt.xlabel('Anxiety Score')\n",
        "plt.ylabel('Frequency')\n",
        "plt.grid(axis='y', linestyle='--', alpha=0.7)\n",
        "plt.show()"
      ],
      "metadata": {
        "id": "4le-JLbpyo5c",
        "colab": {
          "base_uri": "https://localhost:8080/",
          "height": 508
        },
        "outputId": "83748284-e5b4-4167-c5a6-31304ad5bec6"
      },
      "execution_count": 25,
      "outputs": [
        {
          "output_type": "stream",
          "name": "stdout",
          "text": [
            "Statistic: 71.21215852821852, p-value: 3.439349049888263e-16\n",
            "Data not normal\n"
          ]
        },
        {
          "output_type": "display_data",
          "data": {
            "text/plain": [
              "<Figure size 640x480 with 1 Axes>"
            ],
            "image/png": "[encoded data removed]"
          },
          "metadata": {}
        }
      ]
    },
    {
      "cell_type": "code",
      "source": [
        "#Depression\n",
        "stat, p = normaltest(data['Depression'].dropna())\n",
        "print(f\"Statistic: {stat}, p-value: {p}\")\n",
        "if p > 0.05:\n",
        "    print(\"Data likely normal\")\n",
        "else:\n",
        "    print(\"Data not normal\")\n",
        "\n",
        "#histogram for depression\n",
        "plt.hist(data['Depression'].dropna(), bins=20, edgecolor='pink', color='purple')\n",
        "plt.title('Histogram of Depression Scores')\n",
        "plt.xlabel('Depression Score')\n",
        "plt.ylabel('Frequency')\n",
        "plt.grid(axis='y', linestyle='--', alpha=0.7)\n",
        "plt.show()"
      ],
      "metadata": {
        "colab": {
          "base_uri": "https://localhost:8080/",
          "height": 508
        },
        "id": "rdZNomvJGx7I",
        "outputId": "01476869-babd-4d64-fabf-7d091512ae3f"
      },
      "execution_count": 26,
      "outputs": [
        {
          "output_type": "stream",
          "name": "stdout",
          "text": [
            "Statistic: 350.9625595163256, p-value: 6.1581253342883825e-77\n",
            "Data not normal\n"
          ]
        },
        {
          "output_type": "display_data",
          "data": {
            "text/plain": [
              "<Figure size 640x480 with 1 Axes>"
            ],
            "image/png": "[encoded data removed]"
          },
          "metadata": {}
        }
      ]
    },
    {
      "cell_type": "code",
      "source": [
        "#OCD\n",
        "stat, p = normaltest(data['OCD'].dropna())\n",
        "print(f\"Statistic: {stat}, p-value: {p}\")\n",
        "if p > 0.05:\n",
        "    print(\"Data likely normal\")\n",
        "else:\n",
        "    print(\"Data not normal\")\n",
        "\n",
        "#histogram for OCD\n",
        "plt.hist(data['OCD'].dropna(), bins=20, edgecolor='black', color='gray')\n",
        "plt.title('Histogram of OCD Scores')\n",
        "plt.xlabel('OCD Score')\n",
        "plt.ylabel('Frequency')\n",
        "plt.grid(axis='y', linestyle='--', alpha=0.7)\n",
        "plt.show()"
      ],
      "metadata": {
        "colab": {
          "base_uri": "https://localhost:8080/",
          "height": 508
        },
        "id": "d1H1RT4dG77b",
        "outputId": "7b9310df-1de0-499c-9c89-45df02da81d6"
      },
      "execution_count": 27,
      "outputs": [
        {
          "output_type": "stream",
          "name": "stdout",
          "text": [
            "Statistic: 83.50475013346511, p-value: 7.365019519041391e-19\n",
            "Data not normal\n"
          ]
        },
        {
          "output_type": "display_data",
          "data": {
            "text/plain": [
              "<Figure size 640x480 with 1 Axes>"
            ],
            "image/png": "[encoded data removed]"
          },
          "metadata": {}
        }
      ]
    },
    {
      "cell_type": "code",
      "source": [
        "#insomnia\n",
        "stat, p = normaltest(data['Insomnia'].dropna())\n",
        "print(f\"Statistic: {stat}, p-value: {p}\")\n",
        "if p > 0.05:\n",
        "    print(\"Data likely normal\")\n",
        "else:\n",
        "    print(\"Data not normal\")\n",
        "\n",
        "#histogram for insomnia\n",
        "plt.hist(data['Anxiety'].dropna(), bins=20, edgecolor='gray', color='black')\n",
        "plt.title('Histogram of Insomnia Scores')\n",
        "plt.xlabel('Insomnia Score')\n",
        "plt.ylabel('Frequency')\n",
        "plt.grid(axis='y', linestyle='--', alpha=0.7)\n",
        "plt.show()"
      ],
      "metadata": {
        "colab": {
          "base_uri": "https://localhost:8080/",
          "height": 508
        },
        "id": "ssjz2VyEHC3P",
        "outputId": "b1ae963d-41d6-4cf3-a50d-fce17540d518"
      },
      "execution_count": 28,
      "outputs": [
        {
          "output_type": "stream",
          "name": "stdout",
          "text": [
            "Statistic: 192.2081464501976, p-value: 1.8303380574709193e-42\n",
            "Data not normal\n"
          ]
        },
        {
          "output_type": "display_data",
          "data": {
            "text/plain": [
              "<Figure size 640x480 with 1 Axes>"
            ],
            "image/png": "[encoded data removed]"
          },
          "metadata": {}
        }
      ]
    },
    {
      "cell_type": "markdown",
      "source": [
        "Question 1: What is the correlation between the four disorders?\n",
        "\n",
        "*Note: Using spearman correlation because there is no normality for all four disorders*"
      ],
      "metadata": {
        "id": "auSByJSLIO-Z"
      }
    },
    {
      "cell_type": "code",
      "source": [
        "mental_vars = data[['Anxiety', 'Depression', 'OCD', 'Insomnia']]\n",
        "\n",
        "#spearman correlation\n",
        "spearman_corr = mental_vars.corr(method='spearman')\n",
        "\n",
        "#heatmap\n",
        "sns.heatmap(spearman_corr, annot=True, cmap='YlGnBu', vmin=-1, vmax=1)\n",
        "plt.title('Spearman Correlation Matrix')\n",
        "plt.show()"
      ],
      "metadata": {
        "colab": {
          "base_uri": "https://localhost:8080/",
          "height": 452
        },
        "id": "XkgsLGfLIOP7",
        "outputId": "b798df3a-7912-4c43-ccf2-3ae93b3e94ea"
      },
      "execution_count": 29,
      "outputs": [
        {
          "output_type": "display_data",
          "data": {
            "text/plain": [
              "<Figure size 640x480 with 2 Axes>"
            ],
            "image/png": "[encoded data removed]"
          },
          "metadata": {}
        }
      ]
    },
    {
      "cell_type": "markdown",
      "source": [
        "# **Statistical Analysis**"
      ],
      "metadata": {
        "id": "mMx9nBK_jkMY"
      }
    },
    {
      "cell_type": "markdown",
      "source": [
        "Question 2: Is there a significant difference in anxiety levels between people who listen to music while working vs those who don’t?"
      ],
      "metadata": {
        "id": "cruAYCCqju71"
      }
    },
    {
      "cell_type": "code",
      "source": [
        "#people who listen to music while working\n",
        "group1 = data[data['While working'] == 1]['Anxiety']\n",
        "\n",
        "#people who don't listen to music while working\n",
        "group2 = data[data['While working'] == 0]['Anxiety']\n",
        "\n",
        "stat, p = mannwhitneyu(group1, group2, alternative='two-sided')\n",
        "\n",
        "print(f\"Mann–Whitney U statistic: {stat}\")\n",
        "print(f\"P-value: {p}\")\n",
        "\n",
        "if p < 0.05:\n",
        "    print(\"Significant difference in anxiety levels between the two groups.\")\n",
        "else:\n",
        "    print(\"No significant difference in anxiety levels between the two groups.\")"
      ],
      "metadata": {
        "colab": {
          "base_uri": "https://localhost:8080/"
        },
        "id": "_GZLBpnyjupT",
        "outputId": "015576ca-1306-42c8-b2eb-41095ddf94ff"
      },
      "execution_count": 30,
      "outputs": [
        {
          "output_type": "stream",
          "name": "stdout",
          "text": [
            "Mann–Whitney U statistic: 46468.0\n",
            "P-value: 0.4166013942464277\n",
            "No significant difference in anxiety levels between the two groups.\n"
          ]
        }
      ]
    },
    {
      "cell_type": "markdown",
      "source": [
        "Question 3.1: Does music help with insomnia or depression?"
      ],
      "metadata": {
        "id": "7L4KA23flWdv"
      }
    },
    {
      "cell_type": "code",
      "source": [
        "# Group insomnia scores by Music_effects category\n",
        "groups_insomnia = [group[\"Insomnia\"].dropna() for name, group in data.groupby(\"Music effects\")]\n",
        "\n",
        "# Group depression scores by Music_effects category\n",
        "groups_depression = [group[\"Depression\"].dropna() for name, group in data.groupby(\"Music effects\")]\n",
        "\n",
        "# Kruskal-Wallis test for Insomnia\n",
        "stat_insomnia, p_insomnia = kruskal(*groups_insomnia)\n",
        "\n",
        "# Kruskal-Wallis test for Depression\n",
        "stat_depression, p_depression = kruskal(*groups_depression)\n",
        "\n",
        "print(f\"Insomnia: H-statistic = {stat_insomnia:.2f}, p-value = {p_insomnia:.4f}\")\n",
        "print(f\"Depression: H-statistic = {stat_depression:.2f}, p-value = {p_depression:.4f}\")\n",
        "\n",
        "if p_insomnia < 0.05:\n",
        "    print(\"Significant difference in Insomnia scores among different Music effects groups.\")\n",
        "else:\n",
        "    print(\"No significant difference in Insomnia scores among Music_effects groups.\")\n",
        "\n",
        "if p_depression < 0.05:\n",
        "    print(\"Significant difference in Depression scores among different Music effects groups.\")\n",
        "else:\n",
        "    print(\"No significant difference in Depression scores among Music effects groups.\")\n"
      ],
      "metadata": {
        "colab": {
          "base_uri": "https://localhost:8080/"
        },
        "id": "2Y_5uPTLji-M",
        "outputId": "38f57a6b-86f9-4f5c-efc5-bc75b90bbb12"
      },
      "execution_count": 35,
      "outputs": [
        {
          "output_type": "stream",
          "name": "stdout",
          "text": [
            "Insomnia: H-statistic = 1.75, p-value = 0.4174\n",
            "Depression: H-statistic = 13.40, p-value = 0.0012\n",
            "No significant difference in Insomnia scores among Music_effects groups.\n",
            "Significant difference in Depression scores among different Music effects groups.\n"
          ]
        }
      ]
    },
    {
      "cell_type": "markdown",
      "source": [
        "Question 3.2: Is there a significant difference in depression scores among people who perceive music as having 'no effect', 'improving', or 'worsening' their depression?"
      ],
      "metadata": {
        "id": "mSF3Zq98mI_y"
      }
    },
    {
      "cell_type": "code",
      "source": [
        "# Make sure 'Depression' and 'Music_effects' columns exist and have no missing values for these\n",
        "data_clean = data[['Depression', 'Music effects']].dropna()\n",
        "\n",
        "# Kruskal-Wallis test (just to confirm)\n",
        "groups = [group[\"Depression\"].values for name, group in data_clean.groupby(\"Music effects\")]\n",
        "stat, p = kruskal(*groups)\n",
        "print(f\"Kruskal-Wallis H-statistic: {stat}, p-value: {p}\")\n",
        "\n",
        "# Dunn's post-hoc test with Bonferroni correction\n",
        "dunn_results = sp.posthoc_dunn(data_clean, val_col='Depression', group_col='Music effects', p_adjust='bonferroni')\n",
        "\n",
        "print(\"\\nDunn's post-hoc pairwise comparison p-values:\")\n",
        "print(dunn_results)\n",
        "\n",
        "# Optional: highlight significant pairs (p < 0.05)\n",
        "significant_pairs = (dunn_results < 0.05)\n",
        "print(\"\\nSignificant differences (True means significant):\")\n",
        "print(significant_pairs)\n"
      ],
      "metadata": {
        "colab": {
          "base_uri": "https://localhost:8080/"
        },
        "id": "tGE-vcwZnn0f",
        "outputId": "e7f3d597-8833-4a1a-ae23-a86f49bbba76"
      },
      "execution_count": 42,
      "outputs": [
        {
          "output_type": "stream",
          "name": "stdout",
          "text": [
            "Kruskal-Wallis H-statistic: 13.40445282735882, p-value: 0.0012281744320769956\n",
            "\n",
            "Dunn's post-hoc pairwise comparison p-values:\n",
            "          0 effect   Improve    Worsen\n",
            "0 effect  1.000000  0.190384  0.001228\n",
            "Improve   0.190384  1.000000  0.008460\n",
            "Worsen    0.001228  0.008460  1.000000\n",
            "\n",
            "Significant differences (True means significant):\n",
            "          0 effect  Improve  Worsen\n",
            "0 effect     False    False    True\n",
            "Improve      False    False    True\n",
            "Worsen        True     True   False\n"
          ]
        }
      ]
    },
    {
      "cell_type": "markdown",
      "source": [
        "Question 3.3: Which music genres are associated with higher or lower average depression levels among listeners who engage with them?"
      ],
      "metadata": {
        "id": "XQ9xZjUso49X"
      }
    },
    {
      "cell_type": "code",
      "source": [
        "genres = [\n",
        "    'Frequency [Classical]', 'Frequency [Country]', 'Frequency [EDM]', 'Frequency [Folk]',\n",
        "    'Frequency [Gospel]', 'Frequency [Hip hop]', 'Frequency [Jazz]', 'Frequency [K pop]',\n",
        "    'Frequency [Latin]', 'Frequency [Lofi]', 'Frequency [Metal]', 'Frequency [Pop]',\n",
        "    'Frequency [R&B]', 'Frequency [Rap]', 'Frequency [Rock]', 'Frequency [Video game music]'\n",
        "]\n",
        "\n",
        "genre_depression = []\n",
        "\n",
        "for genre in genres:\n",
        "    filtered = data[data[genre] != 'Never']\n",
        "    avg_dep = filtered['Depression'].mean()\n",
        "    genre_depression.append((genre, avg_dep))\n",
        "\n",
        "genre_dep_df = pd.DataFrame(genre_depression, columns=['Genre', 'Avg_Depression'])\n",
        "genre_dep_df = genre_dep_df.sort_values(by='Avg_Depression', ascending=False)\n",
        "\n",
        "print(genre_dep_df.head)"
      ],
      "metadata": {
        "colab": {
          "base_uri": "https://localhost:8080/"
        },
        "id": "WFQiqLKLn4On",
        "outputId": "a73fa669-3438-4b22-d4e9-a2070e5db1e3"
      },
      "execution_count": 48,
      "outputs": [
        {
          "output_type": "stream",
          "name": "stdout",
          "text": [
            "<bound method NDFrame.head of                            Genre  Avg_Depression\n",
            "10             Frequency [Metal]        5.275424\n",
            "2                Frequency [EDM]        5.145688\n",
            "13               Frequency [Rap]        5.134328\n",
            "5            Frequency [Hip hop]        5.068468\n",
            "3               Frequency [Folk]        5.045045\n",
            "15  Frequency [Video game music]        4.985000\n",
            "12               Frequency [R&B]        4.968689\n",
            "9               Frequency [Lofi]        4.963816\n",
            "14              Frequency [Rock]        4.951938\n",
            "8              Frequency [Latin]        4.916382\n",
            "7              Frequency [K pop]        4.879688\n",
            "6               Frequency [Jazz]        4.849474\n",
            "11               Frequency [Pop]        4.847794\n",
            "4             Frequency [Gospel]        4.808458\n",
            "0          Frequency [Classical]        4.782187\n",
            "1            Frequency [Country]        4.756997>\n"
          ]
        }
      ]
    },
    {
      "cell_type": "code",
      "source": [
        "print(genre_dep_df.head(5))"
      ],
      "metadata": {
        "colab": {
          "base_uri": "https://localhost:8080/"
        },
        "id": "p7jAVQrArh9d",
        "outputId": "3e32fced-55f2-4f30-86a9-c1b074ff2fa0"
      },
      "execution_count": 49,
      "outputs": [
        {
          "output_type": "stream",
          "name": "stdout",
          "text": [
            "                  Genre  Avg_Depression\n",
            "10    Frequency [Metal]        5.275424\n",
            "2       Frequency [EDM]        5.145688\n",
            "13      Frequency [Rap]        5.134328\n",
            "5   Frequency [Hip hop]        5.068468\n",
            "3      Frequency [Folk]        5.045045\n"
          ]
        }
      ]
    }
  ]
}